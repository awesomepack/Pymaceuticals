{
 "metadata": {
  "language_info": {
   "codemirror_mode": {
    "name": "ipython",
    "version": 3
   },
   "file_extension": ".py",
   "mimetype": "text/x-python",
   "name": "python",
   "nbconvert_exporter": "python",
   "pygments_lexer": "ipython3",
   "version": "3.8.8"
  },
  "orig_nbformat": 4,
  "kernelspec": {
   "name": "python3",
   "display_name": "Python 3.8.8 64-bit ('base': conda)"
  },
  "interpreter": {
   "hash": "d0612af51d520778623e3976a8283ab01d740464dfd1d7760c60614b40f0e147"
  }
 },
 "nbformat": 4,
 "nbformat_minor": 2,
 "cells": [
  {
   "cell_type": "code",
   "execution_count": 170,
   "metadata": {},
   "outputs": [],
   "source": [
    "#importing dependencies\n",
    "import matplotlib.pyplot as plt;\n",
    "import pandas as pd;\n",
    "import scipy.stats as st;\n",
    "import numpy as np;"
   ]
  },
  {
   "source": [
    "# Importing and merging datasets"
   ],
   "cell_type": "markdown",
   "metadata": {}
  },
  {
   "cell_type": "code",
   "execution_count": 171,
   "metadata": {},
   "outputs": [
    {
     "output_type": "stream",
     "name": "stdout",
     "text": [
      "Index(['Mouse ID', 'Drug Regimen', 'Sex', 'Age_months', 'Weight (g)'], dtype='object')\nIndex(['Mouse ID', 'Timepoint', 'Tumor Volume (mm3)', 'Metastatic Sites'], dtype='object')\n"
     ]
    },
    {
     "output_type": "execute_result",
     "data": {
      "text/plain": [
       "  Mouse ID Drug Regimen   Sex  Age_months  Weight (g)  Timepoint  \\\n",
       "0     k403     Ramicane  Male          21          16          0   \n",
       "1     k403     Ramicane  Male          21          16          5   \n",
       "2     k403     Ramicane  Male          21          16         10   \n",
       "3     k403     Ramicane  Male          21          16         15   \n",
       "4     k403     Ramicane  Male          21          16         20   \n",
       "\n",
       "   Tumor Volume (mm3)  Metastatic Sites  \n",
       "0           45.000000                 0  \n",
       "1           38.825898                 0  \n",
       "2           35.014271                 1  \n",
       "3           34.223992                 1  \n",
       "4           32.997729                 1  "
      ],
      "text/html": "<div>\n<style scoped>\n    .dataframe tbody tr th:only-of-type {\n        vertical-align: middle;\n    }\n\n    .dataframe tbody tr th {\n        vertical-align: top;\n    }\n\n    .dataframe thead th {\n        text-align: right;\n    }\n</style>\n<table border=\"1\" class=\"dataframe\">\n  <thead>\n    <tr style=\"text-align: right;\">\n      <th></th>\n      <th>Mouse ID</th>\n      <th>Drug Regimen</th>\n      <th>Sex</th>\n      <th>Age_months</th>\n      <th>Weight (g)</th>\n      <th>Timepoint</th>\n      <th>Tumor Volume (mm3)</th>\n      <th>Metastatic Sites</th>\n    </tr>\n  </thead>\n  <tbody>\n    <tr>\n      <th>0</th>\n      <td>k403</td>\n      <td>Ramicane</td>\n      <td>Male</td>\n      <td>21</td>\n      <td>16</td>\n      <td>0</td>\n      <td>45.000000</td>\n      <td>0</td>\n    </tr>\n    <tr>\n      <th>1</th>\n      <td>k403</td>\n      <td>Ramicane</td>\n      <td>Male</td>\n      <td>21</td>\n      <td>16</td>\n      <td>5</td>\n      <td>38.825898</td>\n      <td>0</td>\n    </tr>\n    <tr>\n      <th>2</th>\n      <td>k403</td>\n      <td>Ramicane</td>\n      <td>Male</td>\n      <td>21</td>\n      <td>16</td>\n      <td>10</td>\n      <td>35.014271</td>\n      <td>1</td>\n    </tr>\n    <tr>\n      <th>3</th>\n      <td>k403</td>\n      <td>Ramicane</td>\n      <td>Male</td>\n      <td>21</td>\n      <td>16</td>\n      <td>15</td>\n      <td>34.223992</td>\n      <td>1</td>\n    </tr>\n    <tr>\n      <th>4</th>\n      <td>k403</td>\n      <td>Ramicane</td>\n      <td>Male</td>\n      <td>21</td>\n      <td>16</td>\n      <td>20</td>\n      <td>32.997729</td>\n      <td>1</td>\n    </tr>\n  </tbody>\n</table>\n</div>"
     },
     "metadata": {},
     "execution_count": 171
    }
   ],
   "source": [
    "#Data files\n",
    "mouse_metadata_path = 'Resources/Mouse_metadata.csv';\n",
    "study_results_path = 'Resources/Study_results.csv';\n",
    "\n",
    "#Reading in the data\n",
    "mouse_metadata = pd.read_csv(mouse_metadata_path);\n",
    "study_results = pd.read_csv(study_results_path);\n",
    "\n",
    "#previewing column values for both data sets\n",
    "print(mouse_metadata.columns);\n",
    "print(study_results.columns);\n",
    "\n",
    "#Merging the two data sets on their common column: Mouse ID\n",
    "SCC_growth = mouse_metadata.merge(study_results , on= 'Mouse ID');\n",
    "\n",
    "#Previewing merged data frame SCC_growth\n",
    "SCC_growth.head(5)\n"
   ]
  },
  {
   "source": [
    "# Cleaning Data (Drop Duplicates)"
   ],
   "cell_type": "markdown",
   "metadata": {}
  },
  {
   "cell_type": "code",
   "execution_count": 172,
   "metadata": {},
   "outputs": [
    {
     "output_type": "stream",
     "name": "stdout",
     "text": [
      "249\n248\n"
     ]
    }
   ],
   "source": [
    "#checking for unique number of mice\n",
    "mice_count = len(SCC_growth['Mouse ID'].unique())\n",
    "print(mice_count);\n",
    "\n",
    "#The duplicate rows in our dataset\n",
    "duplicate_timepoints = SCC_growth[SCC_growth[['Timepoint' , 'Mouse ID']].duplicated() == True];\n",
    "\n",
    "#Obtaining the unique Mice ID with duplicate timepoints\n",
    "duplicate_mice = list(duplicate_timepoints['Mouse ID'].unique());\n",
    "#its just g989\n",
    "\n",
    "#The full data associated with duplicate values\n",
    "duplicate_data = SCC_growth[(SCC_growth['Mouse ID'] == 'g989')==True];\n",
    "\n",
    " #dropping all Mice ID's associated with duplicates\n",
    "SCC_growth.drop(list(SCC_growth[SCC_growth['Mouse ID'] == 'g989'].index) , inplace= True);\n",
    "\n",
    "#Checking the new count of mice ID's\n",
    "new_mice_count = len(SCC_growth['Mouse ID'].unique());\n",
    "print(new_mice_count);\n",
    "\n",
    "\n",
    "\n",
    "\n"
   ]
  },
  {
   "source": [
    "# Summary Statistics"
   ],
   "cell_type": "markdown",
   "metadata": {}
  },
  {
   "cell_type": "code",
   "execution_count": 208,
   "metadata": {},
   "outputs": [
    {
     "output_type": "stream",
     "name": "stdout",
     "text": [
      "           Ramicane  Capomulin\nmean      40.216745  40.675741\nmedian    40.673236  41.557809\nvariance  23.486704  24.947764\nstd        4.846308   4.994774\nSEM        0.320955   0.329346\n"
     ]
    },
    {
     "output_type": "execute_result",
     "data": {
      "text/plain": [
       "40.2167450667105"
      ]
     },
     "metadata": {},
     "execution_count": 208
    }
   ],
   "source": [
    "#summary stats table for every drug regimen , includes: mean , median , variance , std , SEM\n",
    "\n",
    "#Finding unique drug regimens\n",
    "unique_drugs =  SCC_growth['Drug Regimen'].unique();\n",
    "\n",
    "#empty list to contain lists storing specific drug regimen info\n",
    "drug_regimens = {};\n",
    "\n",
    "#grouping SCC_growth by by a specific drug regimen\n",
    "for drug in unique_drugs:\n",
    "\n",
    "    #SCC_growth view of current regimen\n",
    "    regimen_view = SCC_growth[SCC_growth['Drug Regimen'] == drug];\n",
    "\n",
    "    #subsetting further to obtain a view of Tumor Volume (mm3)\n",
    "    tumor_view = regimen_view['Tumor Volume (mm3)'];\n",
    "\n",
    "    #list to contain regimen specific information\n",
    "    current_regimen = [];\n",
    "\n",
    "    #appending current_regimen with drug subset and calculated information\n",
    "    #current_regimen.append(regimen_view);\n",
    "    current_regimen.append(tumor_view.mean());\n",
    "    current_regimen.append(tumor_view.median());\n",
    "    current_regimen.append(tumor_view.var());\n",
    "    current_regimen.append(tumor_view.std());\n",
    "    current_regimen.append(tumor_view.sem());\n",
    "\n",
    "    #defining dataframe index and columns\n",
    "    Index = ['mean' , 'median' , 'variance' , 'std' , 'SEM'];\n",
    "    Columns = [drug];\n",
    "\n",
    "    #creating a summary dataframe for current_regimen's info\n",
    "    curr_dataframe = pd.DataFrame(current_regimen , index)\n",
    "\n",
    "    #appending drug_regimens\n",
    "    drug_regimens.setdefault(drug , current_regimen)\n",
    "\n",
    "\n",
    "\n",
    "\n",
    "# # print(drug_regimens['Ramicane'][0])\n",
    "# # summary = pd.DataFrame(np.reshape(drug_regimens['Ramicane'] , (1,5)))\n",
    "# # summary\n",
    "\n",
    "# summary = pd.DataFrame(drug_regimens['Ramicane'] , index = ['mean' , 'median' , 'variance' , 'std' , 'SEM' ] , columns = ['Ramicane']);\n",
    "# summary2 = pd.DataFrame(drug_regimens['Capomulin'] , index = ['mean' , 'median' , 'variance' , 'std' , 'SEM'] , columns= ['Capomulin']);\n",
    "\n",
    "# summary3 = pd.concat([summary , summary2] , axis =1)\n"
   ]
  },
  {
   "cell_type": "code",
   "execution_count": null,
   "metadata": {},
   "outputs": [],
   "source": []
  },
  {
   "cell_type": "code",
   "execution_count": null,
   "metadata": {},
   "outputs": [],
   "source": []
  }
 ]
}